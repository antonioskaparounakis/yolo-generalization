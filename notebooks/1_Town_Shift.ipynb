{
 "cells": [
  {
   "metadata": {
    "ExecuteTime": {
     "end_time": "2025-09-25T19:48:19.563873Z",
     "start_time": "2025-09-25T19:48:19.561410Z"
    }
   },
   "cell_type": "code",
   "source": [
    "import os\n",
    "\n",
    "os.chdir(os.path.dirname(os.path.dirname(__file__)) if \"__file__\" in globals() else \"..\")\n",
    "print(\"CWD:\", os.getcwd())"
   ],
   "id": "f20c8faf233259a0",
   "outputs": [
    {
     "name": "stdout",
     "output_type": "stream",
     "text": [
      "CWD: /home/antonios/Code/yolo-generalization\n"
     ]
    }
   ],
   "execution_count": 1
  },
  {
   "metadata": {
    "ExecuteTime": {
     "end_time": "2025-09-25T19:48:22.526973Z",
     "start_time": "2025-09-25T19:48:21.379022Z"
    }
   },
   "cell_type": "code",
   "source": "from ultralytics import YOLO",
   "id": "1155d77ac9cf4bd4",
   "outputs": [],
   "execution_count": 2
  },
  {
   "metadata": {
    "ExecuteTime": {
     "end_time": "2025-09-25T19:48:23.892242Z",
     "start_time": "2025-09-25T19:48:23.888484Z"
    }
   },
   "cell_type": "code",
   "source": [
    "project = \"results/1_Town_Shift\"\n",
    "batch = -1\n",
    "plots = True"
   ],
   "id": "b3076a810de13c2a",
   "outputs": [],
   "execution_count": 3
  },
  {
   "metadata": {
    "ExecuteTime": {
     "end_time": "2025-09-25T19:48:25.613896Z",
     "start_time": "2025-09-25T19:48:25.550645Z"
    }
   },
   "cell_type": "code",
   "source": [
    "# Load the Town01_ClearNoon-trained YOLOv8s model\n",
    "model = YOLO(\"/home/antonios/Code/yolo-generalization/results/1_Weather_Shift/1.1_Train_Town01_ClearNoon/weights/best.pt\")"
   ],
   "id": "5dacda48d1ecf990",
   "outputs": [],
   "execution_count": 4
  },
  {
   "metadata": {
    "ExecuteTime": {
     "end_time": "2025-09-25T20:18:56.193569Z",
     "start_time": "2025-09-25T20:18:41.783685Z"
    }
   },
   "cell_type": "code",
   "source": [
    "# Val | Town10 - ClearNoon (Town shift)\n",
    "data = \"/home/antonios/Code/yolo-generalization/datasets/Town10_ClearNoon_downsampled/Town10_ClearNoon_downsampled.yaml\"\n",
    "metrics = model.val(\n",
    "    data=data,\n",
    "    split=\"train\",\n",
    "    batch=11,\n",
    "    plots=plots,\n",
    "    project=project,\n",
    "    name=\"1.1_Val_Town10_ClearNoon\"\n",
    ")"
   ],
   "id": "cd2dbb3c3211d4a3",
   "outputs": [
    {
     "name": "stdout",
     "output_type": "stream",
     "text": [
      "Ultralytics 8.3.184 🚀 Python-3.12.3 torch-2.6.0+cu124 CUDA:0 (NVIDIA GeForce GTX 1060 3GB, 2998MiB)\n",
      "\u001B[34m\u001B[1mval: \u001B[0mFast image access ✅ (ping: 0.0±0.0 ms, read: 3992.9±1178.0 MB/s, size: 127.0 KB)\n"
     ]
    },
    {
     "name": "stderr",
     "output_type": "stream",
     "text": [
      "\u001B[34m\u001B[1mval: \u001B[0mScanning /home/antonios/Code/yolo-generalization/datasets/Town10_ClearNoon_downsampled/labels/train... 1626 images, 140 backgrounds, 0 corrupt: 100%|██████████| 1626/1626 [00:00<00:00, 2634.83it/s]"
     ]
    },
    {
     "name": "stdout",
     "output_type": "stream",
     "text": [
      "\u001B[34m\u001B[1mval: \u001B[0m/home/antonios/Code/yolo-generalization/datasets/Town10_ClearNoon_downsampled/images/train/000142.jpg: 1 duplicate labels removed\n",
      "\u001B[34m\u001B[1mval: \u001B[0m/home/antonios/Code/yolo-generalization/datasets/Town10_ClearNoon_downsampled/images/train/000143.jpg: 1 duplicate labels removed\n",
      "\u001B[34m\u001B[1mval: \u001B[0m/home/antonios/Code/yolo-generalization/datasets/Town10_ClearNoon_downsampled/images/train/000144.jpg: 1 duplicate labels removed\n",
      "\u001B[34m\u001B[1mval: \u001B[0m/home/antonios/Code/yolo-generalization/datasets/Town10_ClearNoon_downsampled/images/train/000145.jpg: 1 duplicate labels removed\n",
      "\u001B[34m\u001B[1mval: \u001B[0m/home/antonios/Code/yolo-generalization/datasets/Town10_ClearNoon_downsampled/images/train/000146.jpg: 1 duplicate labels removed\n",
      "\u001B[34m\u001B[1mval: \u001B[0m/home/antonios/Code/yolo-generalization/datasets/Town10_ClearNoon_downsampled/images/train/000147.jpg: 1 duplicate labels removed\n",
      "\u001B[34m\u001B[1mval: \u001B[0m/home/antonios/Code/yolo-generalization/datasets/Town10_ClearNoon_downsampled/images/train/000207.jpg: 1 duplicate labels removed\n",
      "\u001B[34m\u001B[1mval: \u001B[0m/home/antonios/Code/yolo-generalization/datasets/Town10_ClearNoon_downsampled/images/train/000211.jpg: 1 duplicate labels removed\n",
      "\u001B[34m\u001B[1mval: \u001B[0m/home/antonios/Code/yolo-generalization/datasets/Town10_ClearNoon_downsampled/images/train/000301.jpg: 1 duplicate labels removed\n",
      "\u001B[34m\u001B[1mval: \u001B[0m/home/antonios/Code/yolo-generalization/datasets/Town10_ClearNoon_downsampled/images/train/000302.jpg: 1 duplicate labels removed\n",
      "\u001B[34m\u001B[1mval: \u001B[0m/home/antonios/Code/yolo-generalization/datasets/Town10_ClearNoon_downsampled/images/train/000303.jpg: 1 duplicate labels removed\n",
      "\u001B[34m\u001B[1mval: \u001B[0m/home/antonios/Code/yolo-generalization/datasets/Town10_ClearNoon_downsampled/images/train/000304.jpg: 1 duplicate labels removed\n",
      "\u001B[34m\u001B[1mval: \u001B[0m/home/antonios/Code/yolo-generalization/datasets/Town10_ClearNoon_downsampled/images/train/000307.jpg: 1 duplicate labels removed\n",
      "\u001B[34m\u001B[1mval: \u001B[0m/home/antonios/Code/yolo-generalization/datasets/Town10_ClearNoon_downsampled/images/train/000308.jpg: 1 duplicate labels removed\n",
      "\u001B[34m\u001B[1mval: \u001B[0m/home/antonios/Code/yolo-generalization/datasets/Town10_ClearNoon_downsampled/images/train/000309.jpg: 1 duplicate labels removed\n",
      "\u001B[34m\u001B[1mval: \u001B[0m/home/antonios/Code/yolo-generalization/datasets/Town10_ClearNoon_downsampled/images/train/000312.jpg: 1 duplicate labels removed\n",
      "\u001B[34m\u001B[1mval: \u001B[0m/home/antonios/Code/yolo-generalization/datasets/Town10_ClearNoon_downsampled/images/train/000313.jpg: 1 duplicate labels removed\n",
      "\u001B[34m\u001B[1mval: \u001B[0m/home/antonios/Code/yolo-generalization/datasets/Town10_ClearNoon_downsampled/images/train/000316.jpg: 1 duplicate labels removed\n",
      "\u001B[34m\u001B[1mval: \u001B[0m/home/antonios/Code/yolo-generalization/datasets/Town10_ClearNoon_downsampled/images/train/000319.jpg: 1 duplicate labels removed\n",
      "\u001B[34m\u001B[1mval: \u001B[0m/home/antonios/Code/yolo-generalization/datasets/Town10_ClearNoon_downsampled/images/train/000379.jpg: 1 duplicate labels removed\n",
      "\u001B[34m\u001B[1mval: \u001B[0m/home/antonios/Code/yolo-generalization/datasets/Town10_ClearNoon_downsampled/images/train/000383.jpg: 1 duplicate labels removed\n",
      "\u001B[34m\u001B[1mval: \u001B[0m/home/antonios/Code/yolo-generalization/datasets/Town10_ClearNoon_downsampled/images/train/000397.jpg: 1 duplicate labels removed\n",
      "\u001B[34m\u001B[1mval: \u001B[0m/home/antonios/Code/yolo-generalization/datasets/Town10_ClearNoon_downsampled/images/train/000398.jpg: 1 duplicate labels removed\n",
      "\u001B[34m\u001B[1mval: \u001B[0m/home/antonios/Code/yolo-generalization/datasets/Town10_ClearNoon_downsampled/images/train/000457.jpg: 1 duplicate labels removed\n",
      "\u001B[34m\u001B[1mval: \u001B[0m/home/antonios/Code/yolo-generalization/datasets/Town10_ClearNoon_downsampled/images/train/000458.jpg: 1 duplicate labels removed\n",
      "\u001B[34m\u001B[1mval: \u001B[0m/home/antonios/Code/yolo-generalization/datasets/Town10_ClearNoon_downsampled/images/train/000459.jpg: 1 duplicate labels removed\n",
      "\u001B[34m\u001B[1mval: \u001B[0m/home/antonios/Code/yolo-generalization/datasets/Town10_ClearNoon_downsampled/images/train/000460.jpg: 1 duplicate labels removed\n",
      "\u001B[34m\u001B[1mval: \u001B[0m/home/antonios/Code/yolo-generalization/datasets/Town10_ClearNoon_downsampled/images/train/000462.jpg: 1 duplicate labels removed\n",
      "\u001B[34m\u001B[1mval: \u001B[0m/home/antonios/Code/yolo-generalization/datasets/Town10_ClearNoon_downsampled/images/train/000463.jpg: 1 duplicate labels removed\n",
      "\u001B[34m\u001B[1mval: \u001B[0m/home/antonios/Code/yolo-generalization/datasets/Town10_ClearNoon_downsampled/images/train/000464.jpg: 1 duplicate labels removed\n",
      "\u001B[34m\u001B[1mval: \u001B[0m/home/antonios/Code/yolo-generalization/datasets/Town10_ClearNoon_downsampled/images/train/000525.jpg: 1 duplicate labels removed\n",
      "\u001B[34m\u001B[1mval: \u001B[0m/home/antonios/Code/yolo-generalization/datasets/Town10_ClearNoon_downsampled/images/train/000526.jpg: 1 duplicate labels removed\n",
      "\u001B[34m\u001B[1mval: \u001B[0m/home/antonios/Code/yolo-generalization/datasets/Town10_ClearNoon_downsampled/images/train/000530.jpg: 1 duplicate labels removed\n",
      "\u001B[34m\u001B[1mval: \u001B[0m/home/antonios/Code/yolo-generalization/datasets/Town10_ClearNoon_downsampled/images/train/000532.jpg: 1 duplicate labels removed\n",
      "\u001B[34m\u001B[1mval: \u001B[0m/home/antonios/Code/yolo-generalization/datasets/Town10_ClearNoon_downsampled/images/train/000534.jpg: 1 duplicate labels removed\n",
      "\u001B[34m\u001B[1mval: \u001B[0m/home/antonios/Code/yolo-generalization/datasets/Town10_ClearNoon_downsampled/images/train/000537.jpg: 1 duplicate labels removed\n",
      "\u001B[34m\u001B[1mval: \u001B[0m/home/antonios/Code/yolo-generalization/datasets/Town10_ClearNoon_downsampled/images/train/000539.jpg: 1 duplicate labels removed\n",
      "\u001B[34m\u001B[1mval: \u001B[0m/home/antonios/Code/yolo-generalization/datasets/Town10_ClearNoon_downsampled/images/train/000593.jpg: 2 duplicate labels removed\n",
      "\u001B[34m\u001B[1mval: \u001B[0m/home/antonios/Code/yolo-generalization/datasets/Town10_ClearNoon_downsampled/images/train/000594.jpg: 2 duplicate labels removed\n",
      "\u001B[34m\u001B[1mval: \u001B[0m/home/antonios/Code/yolo-generalization/datasets/Town10_ClearNoon_downsampled/images/train/000595.jpg: 1 duplicate labels removed\n",
      "\u001B[34m\u001B[1mval: \u001B[0m/home/antonios/Code/yolo-generalization/datasets/Town10_ClearNoon_downsampled/images/train/000598.jpg: 1 duplicate labels removed\n",
      "\u001B[34m\u001B[1mval: \u001B[0m/home/antonios/Code/yolo-generalization/datasets/Town10_ClearNoon_downsampled/images/train/000600.jpg: 1 duplicate labels removed\n",
      "\u001B[34m\u001B[1mval: \u001B[0m/home/antonios/Code/yolo-generalization/datasets/Town10_ClearNoon_downsampled/images/train/000604.jpg: 1 duplicate labels removed\n",
      "\u001B[34m\u001B[1mval: \u001B[0m/home/antonios/Code/yolo-generalization/datasets/Town10_ClearNoon_downsampled/images/train/000606.jpg: 1 duplicate labels removed\n",
      "\u001B[34m\u001B[1mval: \u001B[0m/home/antonios/Code/yolo-generalization/datasets/Town10_ClearNoon_downsampled/images/train/000607.jpg: 1 duplicate labels removed\n",
      "\u001B[34m\u001B[1mval: \u001B[0m/home/antonios/Code/yolo-generalization/datasets/Town10_ClearNoon_downsampled/images/train/000646.jpg: 1 duplicate labels removed\n",
      "\u001B[34m\u001B[1mval: \u001B[0m/home/antonios/Code/yolo-generalization/datasets/Town10_ClearNoon_downsampled/images/train/000650.jpg: 1 duplicate labels removed\n",
      "\u001B[34m\u001B[1mval: \u001B[0m/home/antonios/Code/yolo-generalization/datasets/Town10_ClearNoon_downsampled/images/train/000787.jpg: 1 duplicate labels removed\n",
      "\u001B[34m\u001B[1mval: \u001B[0m/home/antonios/Code/yolo-generalization/datasets/Town10_ClearNoon_downsampled/images/train/000790.jpg: 1 duplicate labels removed\n",
      "\u001B[34m\u001B[1mval: \u001B[0m/home/antonios/Code/yolo-generalization/datasets/Town10_ClearNoon_downsampled/images/train/000832.jpg: 1 duplicate labels removed\n",
      "\u001B[34m\u001B[1mval: \u001B[0m/home/antonios/Code/yolo-generalization/datasets/Town10_ClearNoon_downsampled/images/train/000921.jpg: 1 duplicate labels removed\n",
      "\u001B[34m\u001B[1mval: \u001B[0m/home/antonios/Code/yolo-generalization/datasets/Town10_ClearNoon_downsampled/images/train/000922.jpg: 1 duplicate labels removed\n",
      "\u001B[34m\u001B[1mval: \u001B[0m/home/antonios/Code/yolo-generalization/datasets/Town10_ClearNoon_downsampled/images/train/000923.jpg: 1 duplicate labels removed\n",
      "\u001B[34m\u001B[1mval: \u001B[0m/home/antonios/Code/yolo-generalization/datasets/Town10_ClearNoon_downsampled/images/train/000926.jpg: 1 duplicate labels removed\n",
      "\u001B[34m\u001B[1mval: \u001B[0m/home/antonios/Code/yolo-generalization/datasets/Town10_ClearNoon_downsampled/images/train/000929.jpg: 1 duplicate labels removed\n",
      "\u001B[34m\u001B[1mval: \u001B[0m/home/antonios/Code/yolo-generalization/datasets/Town10_ClearNoon_downsampled/images/train/000931.jpg: 1 duplicate labels removed\n",
      "\u001B[34m\u001B[1mval: \u001B[0m/home/antonios/Code/yolo-generalization/datasets/Town10_ClearNoon_downsampled/images/train/000932.jpg: 1 duplicate labels removed\n",
      "\u001B[34m\u001B[1mval: \u001B[0m/home/antonios/Code/yolo-generalization/datasets/Town10_ClearNoon_downsampled/images/train/000934.jpg: 1 duplicate labels removed\n",
      "\u001B[34m\u001B[1mval: \u001B[0m/home/antonios/Code/yolo-generalization/datasets/Town10_ClearNoon_downsampled/images/train/000935.jpg: 1 duplicate labels removed\n",
      "\u001B[34m\u001B[1mval: \u001B[0m/home/antonios/Code/yolo-generalization/datasets/Town10_ClearNoon_downsampled/images/train/000996.jpg: 1 duplicate labels removed\n",
      "\u001B[34m\u001B[1mval: \u001B[0m/home/antonios/Code/yolo-generalization/datasets/Town10_ClearNoon_downsampled/images/train/000998.jpg: 1 duplicate labels removed\n",
      "\u001B[34m\u001B[1mval: \u001B[0m/home/antonios/Code/yolo-generalization/datasets/Town10_ClearNoon_downsampled/images/train/000999.jpg: 1 duplicate labels removed\n",
      "\u001B[34m\u001B[1mval: \u001B[0m/home/antonios/Code/yolo-generalization/datasets/Town10_ClearNoon_downsampled/images/train/001000.jpg: 1 duplicate labels removed\n",
      "\u001B[34m\u001B[1mval: \u001B[0m/home/antonios/Code/yolo-generalization/datasets/Town10_ClearNoon_downsampled/images/train/001124.jpg: 1 duplicate labels removed\n",
      "\u001B[34m\u001B[1mval: \u001B[0m/home/antonios/Code/yolo-generalization/datasets/Town10_ClearNoon_downsampled/images/train/001387.jpg: 1 duplicate labels removed\n",
      "\u001B[34m\u001B[1mval: \u001B[0m/home/antonios/Code/yolo-generalization/datasets/Town10_ClearNoon_downsampled/images/train/001388.jpg: 1 duplicate labels removed\n",
      "\u001B[34m\u001B[1mval: \u001B[0m/home/antonios/Code/yolo-generalization/datasets/Town10_ClearNoon_downsampled/images/train/001389.jpg: 1 duplicate labels removed\n",
      "\u001B[34m\u001B[1mval: \u001B[0m/home/antonios/Code/yolo-generalization/datasets/Town10_ClearNoon_downsampled/images/train/001390.jpg: 1 duplicate labels removed\n",
      "\u001B[34m\u001B[1mval: \u001B[0m/home/antonios/Code/yolo-generalization/datasets/Town10_ClearNoon_downsampled/images/train/001391.jpg: 1 duplicate labels removed\n",
      "\u001B[34m\u001B[1mval: \u001B[0m/home/antonios/Code/yolo-generalization/datasets/Town10_ClearNoon_downsampled/images/train/001392.jpg: 1 duplicate labels removed\n",
      "\u001B[34m\u001B[1mval: \u001B[0m/home/antonios/Code/yolo-generalization/datasets/Town10_ClearNoon_downsampled/images/train/001446.jpg: 1 duplicate labels removed\n",
      "\u001B[34m\u001B[1mval: \u001B[0m/home/antonios/Code/yolo-generalization/datasets/Town10_ClearNoon_downsampled/images/train/001447.jpg: 2 duplicate labels removed\n",
      "\u001B[34m\u001B[1mval: \u001B[0m/home/antonios/Code/yolo-generalization/datasets/Town10_ClearNoon_downsampled/images/train/001453.jpg: 1 duplicate labels removed\n",
      "\u001B[34m\u001B[1mval: \u001B[0m/home/antonios/Code/yolo-generalization/datasets/Town10_ClearNoon_downsampled/images/train/001455.jpg: 1 duplicate labels removed\n",
      "\u001B[34m\u001B[1mval: \u001B[0m/home/antonios/Code/yolo-generalization/datasets/Town10_ClearNoon_downsampled/images/train/001457.jpg: 1 duplicate labels removed\n",
      "\u001B[34m\u001B[1mval: \u001B[0m/home/antonios/Code/yolo-generalization/datasets/Town10_ClearNoon_downsampled/images/train/001462.jpg: 1 duplicate labels removed\n",
      "\u001B[34m\u001B[1mval: \u001B[0m/home/antonios/Code/yolo-generalization/datasets/Town10_ClearNoon_downsampled/images/train/001613.jpg: 1 duplicate labels removed\n",
      "\u001B[34m\u001B[1mval: \u001B[0m/home/antonios/Code/yolo-generalization/datasets/Town10_ClearNoon_downsampled/images/train/001616.jpg: 1 duplicate labels removed\n",
      "\u001B[34m\u001B[1mval: \u001B[0m/home/antonios/Code/yolo-generalization/datasets/Town10_ClearNoon_downsampled/images/train/001617.jpg: 1 duplicate labels removed\n",
      "\u001B[34m\u001B[1mval: \u001B[0m/home/antonios/Code/yolo-generalization/datasets/Town10_ClearNoon_downsampled/images/train/001618.jpg: 1 duplicate labels removed\n",
      "\u001B[34m\u001B[1mval: \u001B[0m/home/antonios/Code/yolo-generalization/datasets/Town10_ClearNoon_downsampled/images/train/001621.jpg: 1 duplicate labels removed\n",
      "\u001B[34m\u001B[1mval: \u001B[0m/home/antonios/Code/yolo-generalization/datasets/Town10_ClearNoon_downsampled/images/train/001622.jpg: 1 duplicate labels removed\n",
      "\u001B[34m\u001B[1mval: \u001B[0m/home/antonios/Code/yolo-generalization/datasets/Town10_ClearNoon_downsampled/images/train/001624.jpg: 1 duplicate labels removed\n",
      "\u001B[34m\u001B[1mval: \u001B[0m/home/antonios/Code/yolo-generalization/datasets/Town10_ClearNoon_downsampled/images/train/001627.jpg: 1 duplicate labels removed\n",
      "\u001B[34m\u001B[1mval: \u001B[0m/home/antonios/Code/yolo-generalization/datasets/Town10_ClearNoon_downsampled/images/train/001631.jpg: 1 duplicate labels removed\n",
      "\u001B[34m\u001B[1mval: \u001B[0m/home/antonios/Code/yolo-generalization/datasets/Town10_ClearNoon_downsampled/images/train/001692.jpg: 1 duplicate labels removed\n",
      "\u001B[34m\u001B[1mval: \u001B[0m/home/antonios/Code/yolo-generalization/datasets/Town10_ClearNoon_downsampled/images/train/001706.jpg: 1 duplicate labels removed\n",
      "\u001B[34m\u001B[1mval: \u001B[0m/home/antonios/Code/yolo-generalization/datasets/Town10_ClearNoon_downsampled/images/train/001707.jpg: 1 duplicate labels removed\n",
      "\u001B[34m\u001B[1mval: \u001B[0m/home/antonios/Code/yolo-generalization/datasets/Town10_ClearNoon_downsampled/images/train/001709.jpg: 1 duplicate labels removed\n",
      "\u001B[34m\u001B[1mval: \u001B[0m/home/antonios/Code/yolo-generalization/datasets/Town10_ClearNoon_downsampled/images/train/001710.jpg: 1 duplicate labels removed\n",
      "\u001B[34m\u001B[1mval: \u001B[0m/home/antonios/Code/yolo-generalization/datasets/Town10_ClearNoon_downsampled/images/train/001714.jpg: 1 duplicate labels removed\n",
      "\u001B[34m\u001B[1mval: \u001B[0m/home/antonios/Code/yolo-generalization/datasets/Town10_ClearNoon_downsampled/images/train/001912.jpg: 1 duplicate labels removed\n",
      "\u001B[34m\u001B[1mval: \u001B[0m/home/antonios/Code/yolo-generalization/datasets/Town10_ClearNoon_downsampled/images/train/001915.jpg: 1 duplicate labels removed\n",
      "\u001B[34m\u001B[1mval: \u001B[0m/home/antonios/Code/yolo-generalization/datasets/Town10_ClearNoon_downsampled/images/train/001973.jpg: 1 duplicate labels removed\n",
      "\u001B[34m\u001B[1mval: \u001B[0m/home/antonios/Code/yolo-generalization/datasets/Town10_ClearNoon_downsampled/images/train/001975.jpg: 1 duplicate labels removed\n",
      "\u001B[34m\u001B[1mval: \u001B[0m/home/antonios/Code/yolo-generalization/datasets/Town10_ClearNoon_downsampled/images/train/001976.jpg: 1 duplicate labels removed\n",
      "\u001B[34m\u001B[1mval: \u001B[0m/home/antonios/Code/yolo-generalization/datasets/Town10_ClearNoon_downsampled/images/train/001978.jpg: 1 duplicate labels removed\n",
      "\u001B[34m\u001B[1mval: \u001B[0m/home/antonios/Code/yolo-generalization/datasets/Town10_ClearNoon_downsampled/images/train/001980.jpg: 1 duplicate labels removed\n",
      "\u001B[34m\u001B[1mval: \u001B[0m/home/antonios/Code/yolo-generalization/datasets/Town10_ClearNoon_downsampled/images/train/001981.jpg: 1 duplicate labels removed\n",
      "\u001B[34m\u001B[1mval: \u001B[0m/home/antonios/Code/yolo-generalization/datasets/Town10_ClearNoon_downsampled/images/train/001983.jpg: 1 duplicate labels removed\n",
      "\u001B[34m\u001B[1mval: \u001B[0m/home/antonios/Code/yolo-generalization/datasets/Town10_ClearNoon_downsampled/images/train/001984.jpg: 1 duplicate labels removed\n",
      "\u001B[34m\u001B[1mval: \u001B[0m/home/antonios/Code/yolo-generalization/datasets/Town10_ClearNoon_downsampled/images/train/002072.jpg: 1 duplicate labels removed\n",
      "\u001B[34m\u001B[1mval: \u001B[0m/home/antonios/Code/yolo-generalization/datasets/Town10_ClearNoon_downsampled/images/train/002074.jpg: 1 duplicate labels removed\n",
      "\u001B[34m\u001B[1mval: \u001B[0m/home/antonios/Code/yolo-generalization/datasets/Town10_ClearNoon_downsampled/images/train/002076.jpg: 1 duplicate labels removed\n",
      "\u001B[34m\u001B[1mval: \u001B[0m/home/antonios/Code/yolo-generalization/datasets/Town10_ClearNoon_downsampled/images/train/002077.jpg: 1 duplicate labels removed\n",
      "\u001B[34m\u001B[1mval: \u001B[0m/home/antonios/Code/yolo-generalization/datasets/Town10_ClearNoon_downsampled/images/train/002078.jpg: 1 duplicate labels removed\n",
      "\u001B[34m\u001B[1mval: \u001B[0m/home/antonios/Code/yolo-generalization/datasets/Town10_ClearNoon_downsampled/images/train/002130.jpg: 2 duplicate labels removed\n",
      "\u001B[34m\u001B[1mval: \u001B[0m/home/antonios/Code/yolo-generalization/datasets/Town10_ClearNoon_downsampled/images/train/002131.jpg: 2 duplicate labels removed\n",
      "\u001B[34m\u001B[1mval: \u001B[0m/home/antonios/Code/yolo-generalization/datasets/Town10_ClearNoon_downsampled/images/train/002132.jpg: 1 duplicate labels removed\n",
      "\u001B[34m\u001B[1mval: \u001B[0m/home/antonios/Code/yolo-generalization/datasets/Town10_ClearNoon_downsampled/images/train/002134.jpg: 1 duplicate labels removed\n",
      "\u001B[34m\u001B[1mval: \u001B[0m/home/antonios/Code/yolo-generalization/datasets/Town10_ClearNoon_downsampled/images/train/002137.jpg: 1 duplicate labels removed\n",
      "\u001B[34m\u001B[1mval: \u001B[0m/home/antonios/Code/yolo-generalization/datasets/Town10_ClearNoon_downsampled/images/train/002141.jpg: 1 duplicate labels removed\n",
      "\u001B[34m\u001B[1mval: \u001B[0m/home/antonios/Code/yolo-generalization/datasets/Town10_ClearNoon_downsampled/images/train/002147.jpg: 1 duplicate labels removed\n",
      "\u001B[34m\u001B[1mval: \u001B[0mNew cache created: /home/antonios/Code/yolo-generalization/datasets/Town10_ClearNoon_downsampled/labels/train.cache\n"
     ]
    },
    {
     "name": "stderr",
     "output_type": "stream",
     "text": [
      "\n",
      "                 Class     Images  Instances      Box(P          R      mAP50  mAP50-95): 100%|██████████| 148/148 [00:12<00:00, 12.17it/s]\n"
     ]
    },
    {
     "name": "stdout",
     "output_type": "stream",
     "text": [
      "                   all       1626      12641     0.0343     0.0111     0.0223    0.00721\n",
      "Speed: 0.3ms preprocess, 5.8ms inference, 0.0ms loss, 0.5ms postprocess per image\n",
      "Results saved to \u001B[1mresults/1_Town_Shift/1.1_Val_Town10_ClearNoon2\u001B[0m\n"
     ]
    }
   ],
   "execution_count": 6
  }
 ],
 "metadata": {
  "kernelspec": {
   "display_name": "Python 3",
   "language": "python",
   "name": "python3"
  },
  "language_info": {
   "codemirror_mode": {
    "name": "ipython",
    "version": 2
   },
   "file_extension": ".py",
   "mimetype": "text/x-python",
   "name": "python",
   "nbconvert_exporter": "python",
   "pygments_lexer": "ipython2",
   "version": "2.7.6"
  }
 },
 "nbformat": 4,
 "nbformat_minor": 5
}
